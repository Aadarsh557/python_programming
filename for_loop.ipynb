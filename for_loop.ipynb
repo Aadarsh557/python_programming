{
 "cells": [
  {
   "cell_type": "code",
   "execution_count": 1,
   "metadata": {},
   "outputs": [
    {
     "name": "stdout",
     "output_type": "stream",
     "text": [
      "h\n",
      "e\n",
      "l\n",
      "l\n",
      "o\n"
     ]
    }
   ],
   "source": [
    "#1.wap to extract the each and every element from the collection.\n",
    "\n",
    "st='hello'\n",
    "for i in st:\n",
    "    print(i)"
   ]
  },
  {
   "cell_type": "code",
   "execution_count": 28,
   "metadata": {},
   "outputs": [
    {
     "name": "stdout",
     "output_type": "stream",
     "text": [
      "1,2,3,abc,xyz,"
     ]
    }
   ],
   "source": [
    "#list\n",
    "\n",
    "l=[1,2,3,'abc','xyz']\n",
    "for i in l:\n",
    "    print(i,end=\",\")"
   ]
  },
  {
   "cell_type": "code",
   "execution_count": 6,
   "metadata": {},
   "outputs": [
    {
     "name": "stdout",
     "output_type": "stream",
     "text": [
      "1\n",
      "2\n",
      "5\n",
      "aeiou\n",
      "AEIOU\n"
     ]
    }
   ],
   "source": [
    "#tuple\n",
    "\n",
    "t=(1,2,5,'aeiou','AEIOU')\n",
    "for i in t:\n",
    "    print(i)"
   ]
  },
  {
   "cell_type": "code",
   "execution_count": 7,
   "metadata": {},
   "outputs": [
    {
     "name": "stdout",
     "output_type": "stream",
     "text": [
      "1\n",
      "34\n",
      "67\n",
      "asd\n",
      "sdf\n"
     ]
    }
   ],
   "source": [
    "#set\n",
    "\n",
    "s={1,34,67,'asd','sdf'}\n",
    "for i in s:\n",
    "    print(i)"
   ]
  },
  {
   "cell_type": "code",
   "execution_count": 11,
   "metadata": {},
   "outputs": [
    {
     "name": "stdout",
     "output_type": "stream",
     "text": [
      "(1, 27)\n",
      "(23, 12)\n",
      "('abc', 'xyz')\n"
     ]
    }
   ],
   "source": [
    "#dict\n",
    "\n",
    "d={1:27,23:12,'abc':'xyz'}\n",
    "for i in d.items():\n",
    "    print(i)"
   ]
  },
  {
   "cell_type": "code",
   "execution_count": 14,
   "metadata": {},
   "outputs": [
    {
     "name": "stdout",
     "output_type": "stream",
     "text": [
      "1 27\n",
      "23 12\n",
      "abc xyz\n"
     ]
    }
   ],
   "source": [
    "#multi values\n",
    "\n",
    "d={1:27,23:12,'abc':'xyz'}\n",
    "for i,j in d.items():\n",
    "    print(i,j)"
   ]
  },
  {
   "cell_type": "code",
   "execution_count": 18,
   "metadata": {},
   "outputs": [
    {
     "name": "stdout",
     "output_type": "stream",
     "text": [
      "o\n",
      "l\n",
      "l\n",
      "e\n",
      "h\n"
     ]
    }
   ],
   "source": [
    "#2.wap to extract each and every character from the string in reverse order.\n",
    "\n",
    "st=\"hello\"\n",
    "for i in st[::-1]:\n",
    "    print(i)"
   ]
  },
  {
   "cell_type": "code",
   "execution_count": 33,
   "metadata": {},
   "outputs": [
    {
     "name": "stdout",
     "output_type": "stream",
     "text": [
      "o\n",
      "l\n",
      "l\n",
      "e\n",
      "h\n"
     ]
    }
   ],
   "source": [
    "#3.wap to extract each and every character from the string in reverse order with out using slicing.\n",
    "\n",
    "st=\"hello\"                       \n",
    "count=-1                        \n",
    "for i in st:                     \n",
    "    print(st[count])             \n",
    "    count-=1                     "
   ]
  },
  {
   "cell_type": "code",
   "execution_count": 35,
   "metadata": {},
   "outputs": [
    {
     "name": "stdout",
     "output_type": "stream",
     "text": [
      "0\n",
      "1\n",
      "2\n",
      "3\n",
      "4\n"
     ]
    }
   ],
   "source": [
    "#4.wap to count the number of the characters in given string without length function.\n",
    "\n",
    "st=\"purna\"\n",
    "count=0\n",
    "for i in st:\n",
    "    print(count)\n",
    "    count+=1\n"
   ]
  },
  {
   "cell_type": "code",
   "execution_count": 30,
   "metadata": {},
   "outputs": [
    {
     "name": "stdout",
     "output_type": "stream",
     "text": [
      "0,1,2,3,4,5,6,7,8,9,10,"
     ]
    }
   ],
   "source": [
    "#5.wap to print 0 to 10 by using the for loop in one single line.\n",
    "for i in range(0,11,1):\n",
    "    print(i,end=\",\")"
   ]
  },
  {
   "cell_type": "code",
   "execution_count": 31,
   "metadata": {},
   "outputs": [
    {
     "name": "stdout",
     "output_type": "stream",
     "text": [
      "0,2,4,6,8,10,12,14,16,18,20,22,24,26,28,30,32,34,36,38,40,42,44,46,48,50,"
     ]
    }
   ],
   "source": [
    "#6.wap to print 0 to 50 even numbers by using for loop in one single line.\n",
    "\n",
    "for i in range(0,51,2):\n",
    "    print(i,end=\",\")"
   ]
  },
  {
   "cell_type": "code",
   "execution_count": 33,
   "metadata": {},
   "outputs": [
    {
     "name": "stdout",
     "output_type": "stream",
     "text": [
      "1,3,5,7,9,11,13,15,17,19,21,23,25,27,29,31,33,35,37,39,41,43,45,47,49,"
     ]
    }
   ],
   "source": [
    "#7.wap to print 0 to 50 odd numbers by using for loop in one single line.\n",
    "\n",
    "for i in range(1,51,2):\n",
    "    print(i,end=\",\")"
   ]
  },
  {
   "cell_type": "code",
   "execution_count": 35,
   "metadata": {},
   "outputs": [
    {
     "name": "stdout",
     "output_type": "stream",
     "text": [
      "20,19,18,17,16,15,14,13,12,11,10,9,8,7,6,5,4,3,2,1,"
     ]
    }
   ],
   "source": [
    "#8.wap to print 1 to 20 by using for loop in reverse order.\n",
    "\n",
    "for i in range(20,0,-1):\n",
    "\n",
    "    print(i,end=\",\")"
   ]
  },
  {
   "cell_type": "code",
   "execution_count": 24,
   "metadata": {},
   "outputs": [
    {
     "name": "stdout",
     "output_type": "stream",
     "text": [
      "100,98,96,94,92,90,88,86,84,82,80,78,76,74,72,70,68,66,64,62,60,58,56,54,52,50,48,46,44,42,40,38,36,34,32,30,28,26,24,22,20,18,16,14,12,10,"
     ]
    }
   ],
   "source": [
    "#9.wap to print 100 to 10 by using for loop \n",
    "\n",
    "for i in range(100,9,-2):\n",
    "    print(i,end=\",\")"
   ]
  },
  {
   "cell_type": "code",
   "execution_count": 2,
   "metadata": {},
   "outputs": [
    {
     "name": "stdout",
     "output_type": "stream",
     "text": [
      "(0, 'v')\n",
      "(1, 'i')\n",
      "(2, 'r')\n",
      "(3, 'a')\n",
      "(4, 't')\n"
     ]
    }
   ],
   "source": [
    "#10.wap to print traverse/loop/iterate through a string print the character and the index.\n",
    "\n",
    "s='virat'\n",
    "for i in range(len(s)):\n",
    "    print((i,s[i]))"
   ]
  },
  {
   "cell_type": "code",
   "execution_count": 33,
   "metadata": {},
   "outputs": [
    {
     "name": "stdout",
     "output_type": "stream",
     "text": [
      "0 1\n",
      "1 2\n",
      "2 3\n",
      "3 4\n",
      "4 5\n"
     ]
    }
   ],
   "source": [
    "#11.wap to print traverse through a list print character and the index.\n",
    "\n",
    "l=[1,2,3,4,5]\n",
    "for index in range(len(l)):\n",
    "    print(index,l[index])"
   ]
  },
  {
   "cell_type": "code",
   "execution_count": 38,
   "metadata": {},
   "outputs": [
    {
     "name": "stdout",
     "output_type": "stream",
     "text": [
      "[2, 4]\n",
      "[1, 3, 5]\n"
     ]
    }
   ],
   "source": [
    "#12.wap to print traverse/loop through a list.print the even numbers list and odd number list separately.\n",
    "\n",
    "l=[1,2,3,4,5]\n",
    "even=[]\n",
    "odd=[]\n",
    "for i in l:\n",
    "    if i%2==0:\n",
    "        even=even+[i]\n",
    "    else:\n",
    "        odd=odd+[i]\n",
    "print(even)\n",
    "print(odd)"
   ]
  },
  {
   "cell_type": "code",
   "execution_count": 1,
   "metadata": {},
   "outputs": [
    {
     "name": "stdout",
     "output_type": "stream",
     "text": [
      "P\n",
      "S\n",
      "I\n",
      "E\n",
      "S\n"
     ]
    }
   ],
   "source": [
    "#13.wap to extract the uppercase character from given string.\n",
    "\n",
    "st='PySpIdErS'\n",
    "for i in st:\n",
    "    if 'A'<=i<='Z':\n",
    "        print(i)"
   ]
  },
  {
   "cell_type": "code",
   "execution_count": 2,
   "metadata": {},
   "outputs": [
    {
     "name": "stdout",
     "output_type": "stream",
     "text": [
      "y\n",
      "p\n",
      "d\n",
      "r\n"
     ]
    }
   ],
   "source": [
    "#14.wap to extract the lowercase character from given string.\n",
    "\n",
    "st='PySpIdErS'\n",
    "for i in st:\n",
    "    if 'a'<=i<='z':\n",
    "        print(i)"
   ]
  },
  {
   "cell_type": "code",
   "execution_count": 16,
   "metadata": {},
   "outputs": [
    {
     "name": "stdout",
     "output_type": "stream",
     "text": [
      "@\n",
      "P\n",
      "y\n",
      "S\n",
      "p\n",
      "#\n",
      "I\n",
      "d\n",
      "E\n",
      "$\n",
      "r\n",
      "S\n"
     ]
    }
   ],
   "source": [
    "#15.wap to extract the special characters from the given string.\n",
    "\n",
    "st='@PySp#IdE$rS'\n",
    "for i in st:\n",
    "    if not('A'<=i<='Z'and'a'<=i<='z'and'0'<=i<='9'):\n",
    "     print(i)\n",
    "\n"
   ]
  },
  {
   "cell_type": "code",
   "execution_count": 13,
   "metadata": {},
   "outputs": [
    {
     "name": "stdout",
     "output_type": "stream",
     "text": [
      "p\n",
      "y\n",
      "t\n",
      "h\n",
      "o\n",
      "n\n"
     ]
    }
   ],
   "source": [
    "#16.wap to extract expect ascii numbers from given string.\n",
    "\n",
    "st='python0123'\n",
    "for i in st:\n",
    "    if not('0'<=i<='9'):\n",
    "        print(i)"
   ]
  },
  {
   "cell_type": "code",
   "execution_count": 9,
   "metadata": {},
   "outputs": [
    {
     "name": "stdout",
     "output_type": "stream",
     "text": [
      "1\n",
      "2\n",
      "3\n",
      "4\n"
     ]
    }
   ],
   "source": [
    "#17.wap to extract vowels and ascii numbers in given string.\n",
    "\n",
    "st='python1234'\n",
    "for i in st:\n",
    "    if st in ('AEIOU aeiou')or('0'<=i<='9'):\n",
    "        print(i)\n"
   ]
  },
  {
   "cell_type": "code",
   "execution_count": 17,
   "metadata": {},
   "outputs": [
    {
     "name": "stdout",
     "output_type": "stream",
     "text": [
      "python"
     ]
    }
   ],
   "source": [
    "#18.wap to store all the characters from the string.\n",
    "\n",
    "res=''\n",
    "st='python'\n",
    "for i in st:\n",
    "    res=res+i\n",
    "    print(i,end='')"
   ]
  },
  {
   "cell_type": "code",
   "execution_count": 5,
   "metadata": {},
   "outputs": [
    {
     "name": "stdout",
     "output_type": "stream",
     "text": [
      "1\n",
      "21\n",
      "321\n",
      "4321\n",
      "54321\n"
     ]
    }
   ],
   "source": [
    "#19.wap to reverse the string without slicing and store in the new string.\n",
    "\n",
    "res=\"\"\n",
    "st='12345'\n",
    "for i in st:\n",
    "    res=i+res\n",
    "    print(res)"
   ]
  }
 ],
 "metadata": {
  "kernelspec": {
   "display_name": "Python 3",
   "language": "python",
   "name": "python3"
  },
  "language_info": {
   "codemirror_mode": {
    "name": "ipython",
    "version": 3
   },
   "file_extension": ".py",
   "mimetype": "text/x-python",
   "name": "python",
   "nbconvert_exporter": "python",
   "pygments_lexer": "ipython3",
   "version": "3.11.5"
  }
 },
 "nbformat": 4,
 "nbformat_minor": 2
}
