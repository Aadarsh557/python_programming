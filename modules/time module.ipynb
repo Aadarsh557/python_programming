{
 "cells": [
  {
   "cell_type": "code",
   "execution_count": 3,
   "metadata": {},
   "outputs": [
    {
     "name": "stdout",
     "output_type": "stream",
     "text": [
      "Tue Jan 23 10:07:38 2024\n"
     ]
    }
   ],
   "source": [
    "#time.ctime()\n",
    "import time\n",
    "c=time.ctime()\n",
    "print(c)"
   ]
  },
  {
   "cell_type": "code",
   "execution_count": 4,
   "metadata": {},
   "outputs": [
    {
     "name": "stdout",
     "output_type": "stream",
     "text": [
      "1705984675.951834\n"
     ]
    }
   ],
   "source": [
    "#time.time()\n",
    "import time\n",
    "start=time.time()\n",
    "print(start)"
   ]
  },
  {
   "cell_type": "code",
   "execution_count": 5,
   "metadata": {},
   "outputs": [
    {
     "name": "stdout",
     "output_type": "stream",
     "text": [
      "None\n"
     ]
    }
   ],
   "source": [
    "#time.sleep()\n",
    "import time\n",
    "a=time.sleep(2)\n",
    "print(a)"
   ]
  },
  {
   "cell_type": "code",
   "execution_count": 6,
   "metadata": {},
   "outputs": [
    {
     "name": "stdout",
     "output_type": "stream",
     "text": [
      "time.struct_time(tm_year=2024, tm_mon=1, tm_mday=23, tm_hour=10, tm_min=10, tm_sec=29, tm_wday=1, tm_yday=23, tm_isdst=0)\n"
     ]
    }
   ],
   "source": [
    "#time.localtime()\n",
    "import time\n",
    "l=time.localtime()\n",
    "print(l)"
   ]
  },
  {
   "cell_type": "code",
   "execution_count": 7,
   "metadata": {},
   "outputs": [
    {
     "name": "stdout",
     "output_type": "stream",
     "text": [
      "23-01-24\n"
     ]
    }
   ],
   "source": [
    "#time.strftime()\n",
    "import time\n",
    "print(time.strftime(\"%d-%m-%y\"))"
   ]
  },
  {
   "cell_type": "code",
   "execution_count": 8,
   "metadata": {},
   "outputs": [
    {
     "name": "stdout",
     "output_type": "stream",
     "text": [
      "10-14-44\n"
     ]
    }
   ],
   "source": [
    "import time\n",
    "print(time.strftime(\"%H-%M-%S\"))"
   ]
  },
  {
   "cell_type": "code",
   "execution_count": 9,
   "metadata": {},
   "outputs": [
    {
     "name": "stdout",
     "output_type": "stream",
     "text": [
      "23-01-24\n",
      "10-15-25\n"
     ]
    }
   ],
   "source": [
    "import time\n",
    "print(time.strftime(\"%d-%m-%y\"))\n",
    "print(time.strftime(\"%H-%M-%S\"))"
   ]
  }
 ],
 "metadata": {
  "kernelspec": {
   "display_name": "Python 3",
   "language": "python",
   "name": "python3"
  },
  "language_info": {
   "codemirror_mode": {
    "name": "ipython",
    "version": 3
   },
   "file_extension": ".py",
   "mimetype": "text/x-python",
   "name": "python",
   "nbconvert_exporter": "python",
   "pygments_lexer": "ipython3",
   "version": "3.11.5"
  }
 },
 "nbformat": 4,
 "nbformat_minor": 2
}
