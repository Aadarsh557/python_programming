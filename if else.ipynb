{
 "cells": [
  {
   "cell_type": "code",
   "execution_count": 1,
   "metadata": {},
   "outputs": [
    {
     "name": "stdout",
     "output_type": "stream",
     "text": [
      "postive\n"
     ]
    }
   ],
   "source": [
    "#1.wap to check whether a number is positive or negative . if positive print positive message or else print negative number.\n",
    "num=12\n",
    "if num>0 or num<0:\n",
    "    print(\"postive\")\n",
    "else:\n",
    "    print(\"negative\")"
   ]
  },
  {
   "cell_type": "code",
   "execution_count": 2,
   "metadata": {},
   "outputs": [
    {
     "name": "stdout",
     "output_type": "stream",
     "text": [
      "even\n"
     ]
    }
   ],
   "source": [
    "#2.wap to check whether a number is even or odd .if even,print message even or else print message odd.\n",
    "num=10\n",
    "if num%2==0 or num%2!=0:\n",
    "    print(\"even\")\n",
    "else:\n",
    "    print(\"odd\")"
   ]
  },
  {
   "cell_type": "code",
   "execution_count": 7,
   "metadata": {},
   "outputs": [
    {
     "name": "stdout",
     "output_type": "stream",
     "text": [
      "not greater than\n"
     ]
    }
   ],
   "source": [
    "#3.write a program to check whether a  given number is greater than 10 or not. if it is greater than 10 print message greater or else print the number will not greater than.\n",
    "num=9\n",
    "if num>10:\n",
    "    print(\"greater\")\n",
    "else:\n",
    "    print(\"not greater than\")"
   ]
  },
  {
   "cell_type": "code",
   "execution_count": 18,
   "metadata": {},
   "outputs": [
    {
     "name": "stdout",
     "output_type": "stream",
     "text": [
      "x\n"
     ]
    }
   ],
   "source": [
    "#4.wap to check whether a given value is present in between 45 to 125.if value is present print the ascii character.\n",
    "\n",
    "num=120\n",
    "#if num>45 and num<125:\n",
    "if 45<num<125:\n",
    "    print(chr(num))\n",
    "else:\n",
    "    print(\"\")"
   ]
  },
  {
   "cell_type": "code",
   "execution_count": 25,
   "metadata": {},
   "outputs": [
    {
     "name": "stdout",
     "output_type": "stream",
     "text": [
      "good morning\n"
     ]
    }
   ],
   "source": [
    "#5.wap to check whether the given two innput numbers are divisible by 3 and 5.if it is divisible,print \"good morning\",if it is not print \"good evening\".\n",
    "n=15\n",
    "m=30\n",
    "if n%3==0 and n%5==0 and m%3==0 and m%5==0:\n",
    "    print('good morning')\n",
    "else:\n",
    "    print('good evening')"
   ]
  },
  {
   "cell_type": "code",
   "execution_count": 29,
   "metadata": {},
   "outputs": [
    {
     "name": "stdout",
     "output_type": "stream",
     "text": [
      "400\n"
     ]
    }
   ],
   "source": [
    "#6.wap to accept two integers and check whether they are equal or not .if equal,multiply to value or quotation value and display it.\n",
    "\n",
    "n=20\n",
    "m=20\n",
    "if n==m:\n",
    " print(n*m) \n",
    " \n",
    "else:\n",
    "    print(n/m)\n"
   ]
  },
  {
   "cell_type": "code",
   "execution_count": 30,
   "metadata": {},
   "outputs": [
    {
     "name": "stdout",
     "output_type": "stream",
     "text": [
      "smallest\n"
     ]
    }
   ],
   "source": [
    "#7.wap to find the  largest of two numbers. \n",
    "n=12\n",
    "m=15\n",
    "if n>m:\n",
    "    print('largest')\n",
    "else:\n",
    "    print('smallest')"
   ]
  },
  {
   "cell_type": "code",
   "execution_count": 31,
   "metadata": {},
   "outputs": [
    {
     "name": "stdout",
     "output_type": "stream",
     "text": [
      "greaterthan\n"
     ]
    }
   ],
   "source": [
    "#8.wap to check whether the input number is greater than 10 or not if it is greater than 10 print message as greater with print that number.if that number is not greater than 10 print that number.\n",
    "n=30\n",
    "if n>10:\n",
    "    print('greaterthan') \n",
    "else:\n",
    "    print('not greaterthan')\n"
   ]
  },
  {
   "cell_type": "code",
   "execution_count": 6,
   "metadata": {},
   "outputs": [
    {
     "name": "stdout",
     "output_type": "stream",
     "text": [
      "29\n"
     ]
    }
   ],
   "source": [
    "#9.wap to given number integer, if n is greater than 21,print the absolute difference between n and 21 otherwise print twice the absolute difference.\n",
    "n=50\n",
    "if n>21:\n",
    "    print(n-21)\n",
    "else:\n",
    "    print((n-21)*2)\n"
   ]
  },
  {
   "cell_type": "code",
   "execution_count": 7,
   "metadata": {},
   "outputs": [
    {
     "name": "stdout",
     "output_type": "stream",
     "text": [
      "smallest\n"
     ]
    }
   ],
   "source": [
    "#10.wap to find the smallest of two numbers.\n",
    "n=12\n",
    "m=22\n",
    "if n<m:\n",
    "    print('smallest')\n",
    "else:\n",
    "    print('largest')"
   ]
  },
  {
   "cell_type": "code",
   "execution_count": 8,
   "metadata": {},
   "outputs": [
    {
     "name": "stdout",
     "output_type": "stream",
     "text": [
      "13\n"
     ]
    }
   ],
   "source": [
    "#11.wap to check whether the given nummber is even or odd.if it is even then make it as an add number,if it is an odd number then make it as even nummber.\n",
    "\n",
    "num=22\n",
    "if num%2==0 or num%2!=0:\n",
    "    print(n+1)\n",
    "else:\n",
    "    print(n+1)"
   ]
  },
  {
   "cell_type": "code",
   "execution_count": 10,
   "metadata": {},
   "outputs": [
    {
     "name": "stdout",
     "output_type": "stream",
     "text": [
      "18\n"
     ]
    }
   ],
   "source": [
    "#12.wap to check whether the given nummber is divisible by 3 or not if yes,print the number or else print the cube of the numbers.\n",
    "num=18\n",
    "if num%3==0:\n",
    "    print(num)\n",
    "else:\n",
    "    print(num**3)"
   ]
  },
  {
   "cell_type": "code",
   "execution_count": 14,
   "metadata": {},
   "outputs": [
    {
     "name": "stdout",
     "output_type": "stream",
     "text": [
      "30\n"
     ]
    }
   ],
   "source": [
    "#13.wap to check whether the given input is divisible by 3 and 5.if yes print the actual number or else print the string of that number.\n",
    "\n",
    "num=30\n",
    "if num%3==0 and num%5==0:\n",
    "    print(num)\n",
    "else:\n",
    "    print(str(num))\n",
    "    "
   ]
  },
  {
   "cell_type": "code",
   "execution_count": 15,
   "metadata": {},
   "outputs": [
    {
     "name": "stdout",
     "output_type": "stream",
     "text": [
      "324\n"
     ]
    }
   ],
   "source": [
    "#14.wap to check whether the given number lies between 1 to 9,if it is true square that number or else  false cube that number and display the number.\n",
    "\n",
    "num=18\n",
    "if num>1 and num<19:\n",
    "    print(num**2)\n",
    "else:\n",
    "    print(num**3)\n"
   ]
  },
  {
   "cell_type": "code",
   "execution_count": 17,
   "metadata": {},
   "outputs": [
    {
     "name": "stdout",
     "output_type": "stream",
     "text": [
      "passed\n"
     ]
    }
   ],
   "source": [
    "#15.wap to check whether the student has passed or falied.If the student got than 40 marks,print 'pass' along with those marks,if it is not printed 'fail' along with those marks.\n",
    "\n",
    "marks=45\n",
    "if marks>40:\n",
    "    print(\"passed\")\n",
    "else:\n",
    "    print(\"falied\")"
   ]
  },
  {
   "cell_type": "code",
   "execution_count": 19,
   "metadata": {},
   "outputs": [
    {
     "name": "stdout",
     "output_type": "stream",
     "text": [
      "6\n"
     ]
    }
   ],
   "source": [
    "#16.wap to check whether the given value is even and in range of 47 to 58 and not in 0 or odd.If condition is true ,to perfome display the ascii character or else to perform floor division with 5 and display it.\n",
    "\n",
    "num=54\n",
    "if num%2==0 and num>47 and num<58 and num!=0 or num%2!=0:\n",
    "    print(chr(num))\n",
    "else:\n",
    "    print(num//5)\n"
   ]
  },
  {
   "cell_type": "code",
   "execution_count": 24,
   "metadata": {},
   "outputs": [
    {
     "name": "stdout",
     "output_type": "stream",
     "text": [
      "A\n"
     ]
    }
   ],
   "source": [
    "#17.wap to check whether a given character is in the alphabet or not.if alphabet,display the alphabet with character or else display the not alphabet with character.\n",
    "\n",
    "ch=\"A\"\n",
    "if 'A'<=ch<='Z' or 'a'<=ch<='z':\n",
    "    print(ch)\n",
    "else:\n",
    "    print(ch(\"not alphabet\"))"
   ]
  },
  {
   "cell_type": "code",
   "execution_count": 30,
   "metadata": {},
   "outputs": [
    {
     "name": "stdout",
     "output_type": "stream",
     "text": [
      "A\n"
     ]
    }
   ],
   "source": [
    "#18.wap to check whether the given character is uppercase or other character.if uppercase,display the uppercasse with character or else display the other character with character.\n",
    "ch='A'\n",
    "if (ch>='A' and ch<='z'):\n",
    "    print(ch)\n",
    "else:\n",
    "    print(\"not uppercase\")"
   ]
  },
  {
   "cell_type": "code",
   "execution_count": 31,
   "metadata": {},
   "outputs": [
    {
     "name": "stdout",
     "output_type": "stream",
     "text": [
      "lower case\n"
     ]
    }
   ],
   "source": [
    "#19.wap to check whether the given character is lowercase or other character.if lowercase,display the uppercase with character or else display the other character with character.\n",
    "ch='c'\n",
    "if ch>='a' and ch<='z':\n",
    "    print(\"lower case\")\n",
    "else:\n",
    "    print(\"not upper case\")"
   ]
  },
  {
   "cell_type": "code",
   "execution_count": 32,
   "metadata": {},
   "outputs": [
    {
     "name": "stdout",
     "output_type": "stream",
     "text": [
      "d\n"
     ]
    }
   ],
   "source": [
    "#20.wap to check whether a given character is uppercase or other character.if uppercase,convert to lowercase or else display the ascii character.\n",
    "ch='D'\n",
    "if ch>='A' and ch<='Z':\n",
    "    print(chr(ord(ch)+32))\n",
    "else:\n",
    "    print(ord(ch))"
   ]
  },
  {
   "cell_type": "code",
   "execution_count": 7,
   "metadata": {},
   "outputs": [
    {
     "name": "stdout",
     "output_type": "stream",
     "text": [
      "A\n"
     ]
    }
   ],
   "source": [
    "#21.wap to check whether the given character is in lowercase or uppercase.if it is in the lowercase convert to uppercase, or else in the uppecase and convert it into lowercase. display the value.\n",
    "ch='a'\n",
    "if 'a'<=ch<='z' or 'A'<=ch<=\"Z\":\n",
    "    print(chr(ord(ch)-32))\n",
    "else:\n",
    "    print(chr(ord(ch)+32))"
   ]
  },
  {
   "cell_type": "code",
   "execution_count": 14,
   "metadata": {},
   "outputs": [
    {
     "name": "stdout",
     "output_type": "stream",
     "text": [
      "r\n"
     ]
    }
   ],
   "source": [
    "#22.wap to check whether the given string of the first character is a special symbol or not.if a special symbol,to extract and display the middle character or else to reverse the string and display the half of the string.\n",
    "st=\"#purna\"\n",
    "if not('A'<=st<='Z' and 'a'<=st<='z') or not('0'<=st<='9'):\n",
    "        print(st[len(st)//2])\n",
    "else:\n",
    "    a=st[::-1]\n",
    "    print(a[0:len(a)//2])\n",
    "\n"
   ]
  },
  {
   "cell_type": "code",
   "execution_count": 16,
   "metadata": {},
   "outputs": [
    {
     "name": "stdout",
     "output_type": "stream",
     "text": [
      "consonant\n"
     ]
    }
   ],
   "source": [
    "#23.wap to check whether the input character is a vowel or not . if it is vowel print 'VOWEL' along with that character,if it is not just print 'CONSONANT'.\n",
    "ch='s'\n",
    "if ch in ('aeiouAEIOU'):\n",
    "    print('vowel')\n",
    "else:\n",
    "    print('consonant')"
   ]
  },
  {
   "cell_type": "code",
   "execution_count": 20,
   "metadata": {},
   "outputs": [
    {
     "name": "stdout",
     "output_type": "stream",
     "text": [
      "b\n"
     ]
    }
   ],
   "source": [
    "#24.wap to check whether a given character is vowel or consonant.if it is vowel ,to print the next character or else print previous characters.\n",
    "ch='a'\n",
    "if ch in ('aeiouAEIOU') or not('aeiouAEIOU'):\n",
    "    print(chr(ord(ch)+1))\n",
    "else:\n",
    "    print(chr(ord(ch)-1))\n"
   ]
  },
  {
   "cell_type": "code",
   "execution_count": 6,
   "metadata": {},
   "outputs": [
    {
     "name": "stdout",
     "output_type": "stream",
     "text": [
      "dnihiaj\n"
     ]
    }
   ],
   "source": [
    "#25.wap to check whether a given string  of first character is alphabet or not.if the alphabet prints, reverse the string or else print the middle character.\n",
    "ch='jaihind'\n",
    "if 'A'<=ch<='Z' or 'a'<=ch<='z':\n",
    "    print(ch[::-1])\n",
    "else:\n",
    "    print(ch[len(ch)//2])"
   ]
  },
  {
   "cell_type": "code",
   "execution_count": 3,
   "metadata": {},
   "outputs": [
    {
     "name": "stdout",
     "output_type": "stream",
     "text": [
      "a\n"
     ]
    }
   ],
   "source": [
    "#26.wap to check whether the given  input character is uppercase or lowercase.if the input character is uppercase convert into lowercase and vice versa.\n",
    "\n",
    "ch='A'\n",
    "if 'A'<=ch<='z' or 'a'<=ch<='z':\n",
    "    print(chr(ord(ch)+32))\n",
    "else:\n",
    "    print(ch[::-1])\n",
    "            "
   ]
  },
  {
   "cell_type": "code",
   "execution_count": 4,
   "metadata": {},
   "outputs": [
    {
     "name": "stdout",
     "output_type": "stream",
     "text": [
      "darsh\n"
     ]
    }
   ],
   "source": [
    "#27.wap to check whether a given string is less than 3 characters,to print the entire string otherwise to print after third positions to remaining string.\n",
    "st=\"aadarsh\"\n",
    "if len(st)<3:\n",
    "    print(st)\n",
    "else:\n",
    "    a=st[2:]\n",
    "print(a)"
   ]
  },
  {
   "cell_type": "code",
   "execution_count": 9,
   "metadata": {},
   "outputs": [
    {
     "name": "stdout",
     "output_type": "stream",
     "text": [
      "p a\n"
     ]
    }
   ],
   "source": [
    "#28.wap to check whether a given length is even or not.if even,to append the new string called \"bye\" or else print the first and last characters.\n",
    "\n",
    "st='prasada'\n",
    "if len(st)%2==0:\n",
    "    st+='bye'\n",
    "    print(st)\n",
    "else:\n",
    "    print(st[0],st[-1])"
   ]
  },
  {
   "cell_type": "code",
   "execution_count": 18,
   "metadata": {},
   "outputs": [
    {
     "name": "stdout",
     "output_type": "stream",
     "text": [
      "pecial\n"
     ]
    }
   ],
   "source": [
    "#29.wap to check whether a given length of the string is odd or not.if odd,to append the new string(\"haii\")from the starting of the given string,or else to avoid the string and to display the remainig characters.\n",
    "st='specialw'\n",
    "if len(st)%2!=0:\n",
    "    a='haii'+st[0::]\n",
    "    print(a)\n",
    "else:\n",
    "    print(st[1:-1])"
   ]
  },
  {
   "cell_type": "code",
   "execution_count": 50,
   "metadata": {},
   "outputs": [
    {
     "name": "stdout",
     "output_type": "stream",
     "text": [
      "aDARSHrsh\n"
     ]
    }
   ],
   "source": [
    "\n",
    "# ch='aadarsh'\n",
    "# if len(ch)%2==0:\n",
    "#     print(ch)\n",
    "# else:\n",
    "#     res=ch[1:2]+'DARSH'+ch[4:]\n",
    "# print(res)"
   ]
  },
  {
   "cell_type": "code",
   "execution_count": 7,
   "metadata": {},
   "outputs": [
    {
     "name": "stdout",
     "output_type": "stream",
     "text": [
      "sucof\n"
     ]
    }
   ],
   "source": [
    "#30.wap to check whether the last of the given string is a special character or not,if the special character prints reverse the string expect the last character or else to check if the length of the string is odd or not,if odd to extract the middle character to the end of the string.\n",
    "st='focus'\n",
    "if ('A'<=st<='Z' or 'a'<=st<='z' or '0'<=st<='9') or len(st)%2!=0:\n",
    "    print(st[::-1])\n",
    "else:\n",
    "    print(len(st)//2)\n",
    "\n"
   ]
  },
  {
   "cell_type": "code",
   "execution_count": 14,
   "metadata": {},
   "outputs": [
    {
     "name": "stdout",
     "output_type": "stream",
     "text": [
      "leap year\n"
     ]
    }
   ],
   "source": [
    "#31.wap to check whether a given year is leap year or not.if leap year,print leap year or else not a leap year.\n",
    "a=2016\n",
    "if a%4==0:\n",
    "    print(\"leap year\")\n",
    "else:\n",
    "    print(\"not leap year\")"
   ]
  },
  {
   "cell_type": "code",
   "execution_count": 15,
   "metadata": {},
   "outputs": [
    {
     "name": "stdout",
     "output_type": "stream",
     "text": [
      "smallest\n"
     ]
    }
   ],
   "source": [
    "#32.wap to find out the greatest of two numbers and display the greatest number.if the greatest number,display the greatest message with the value.\n",
    "n=21\n",
    "m=23\n",
    "if n>m:\n",
    "    print(n(\"greatest\"))\n",
    "else:\n",
    "    print(\"smallest\")"
   ]
  },
  {
   "cell_type": "code",
   "execution_count": 25,
   "metadata": {},
   "outputs": [
    {
     "name": "stdout",
     "output_type": "stream",
     "text": [
      "the value is present\n"
     ]
    }
   ],
   "source": [
    "#33.wap to check whether the given value is present inside the given collection or not.if value is present display the value is present,or else the value is not present.\n",
    "a=[33,44,'str','dfs',99]\n",
    "if 44 in a:\n",
    "    print(\"the value is present\")\n",
    "else:\n",
    "    print(\"the value is not present\")\n"
   ]
  },
  {
   "cell_type": "code",
   "execution_count": 30,
   "metadata": {},
   "outputs": [
    {
     "name": "stdout",
     "output_type": "stream",
     "text": [
      "lENGTh\n"
     ]
    }
   ],
   "source": [
    "#34.wap to whether a given string,if string length is more than 2,then it display a new string with the first and last character switched,otherwise the display the 3 copies of given string.\n",
    "st='length'\n",
    "if len(st)>2:\n",
    "    res=st[0:1]+'ENGT'+st[4+1:]\n",
    "    print(res)\n",
    "else:\n",
    "    print(st*3)"
   ]
  },
  {
   "cell_type": "code",
   "execution_count": 38,
   "metadata": {},
   "outputs": [
    {
     "name": "stdout",
     "output_type": "stream",
     "text": [
      "[7.333333333333333, 'sdf', 'sfkf', -45]\n"
     ]
    }
   ],
   "source": [
    "#35.wap to check whether a given  value is a list and first and last values should be integer,if condition is satisfied first value is true division by 3 and perform the bitwise not for last value and those result values are stored in same postions in list or else,to perform lenght of the collection power 2 and display it.\n",
    "a=[22,'sdf','sfkf',44]\n",
    "if type(a)==list or type(a[0]==int==a[-1]):\n",
    "    a[0]=a[0]/3\n",
    "    a[-1]=~a[-1]\n",
    "    print(a)\n",
    "else:\n",
    "    print(len(a)//2)"
   ]
  },
  {
   "cell_type": "code",
   "execution_count": 51,
   "metadata": {},
   "outputs": [
    {
     "name": "stdout",
     "output_type": "stream",
     "text": [
      "greahaiitest\n"
     ]
    }
   ],
   "source": [
    "#36.wap to check whether a given value is a string or not and length of the value should be more than 7,if condition is satisfied to append the new string in the middle of the given string or else to perform the replications with 3 and display the result.\n",
    "\n",
    "st=\"greatest\"\n",
    "if type(st)==str or len(st)>7:\n",
    "    a=st[0:len(st)//2]+'haii'+st[len(st)//2:]\n",
    "    print(a)\n",
    "else:\n",
    "    print(st*3)"
   ]
  },
  {
   "cell_type": "code",
   "execution_count": 3,
   "metadata": {},
   "outputs": [
    {
     "data": {
      "text/plain": [
       "120"
      ]
     },
     "execution_count": 3,
     "metadata": {},
     "output_type": "execute_result"
    }
   ],
   "source": [
    "a=5\n",
    "\n",
    "def fact(num):\n",
    "    if num==1:\n",
    "        return num\n",
    "    else:\n",
    "        return num*fact(num-1)\n",
    "fact(a)"
   ]
  }
 ],
 "metadata": {
  "kernelspec": {
   "display_name": "Python 3",
   "language": "python",
   "name": "python3"
  },
  "language_info": {
   "codemirror_mode": {
    "name": "ipython",
    "version": 3
   },
   "file_extension": ".py",
   "mimetype": "text/x-python",
   "name": "python",
   "nbconvert_exporter": "python",
   "pygments_lexer": "ipython3",
   "version": "3.11.5"
  }
 },
 "nbformat": 4,
 "nbformat_minor": 2
}
