{
 "cells": [
  {
   "cell_type": "code",
   "execution_count": 1,
   "metadata": {},
   "outputs": [
    {
     "name": "stdout",
     "output_type": "stream",
     "text": [
      "{1, 2, 3, 4, 5, 'purna'}\n"
     ]
    }
   ],
   "source": [
    "#user defined add method\n",
    "s={1,2,3,4,5}\n",
    "def user_add(element):\n",
    "    global s\n",
    "    if type(s)!=set:\n",
    "        raise AttributeError\n",
    "    elif type(element)in(list,set,dict):\n",
    "        raise ValueError\n",
    "    s|={element}\n",
    "user_add('purna')\n",
    "print(s)"
   ]
  },
  {
   "cell_type": "code",
   "execution_count": 5,
   "metadata": {},
   "outputs": [
    {
     "name": "stdout",
     "output_type": "stream",
     "text": [
      "{1, 3, 4, 5}\n"
     ]
    }
   ],
   "source": [
    "#user defined discard method\n",
    "s={1,2,3,4,5}\n",
    "def user_discard(value):\n",
    "    global s\n",
    "    if type(s)!=set:\n",
    "        raise AttributeError\n",
    "    s-={value}\n",
    "user_discard(2)\n",
    "print(s)    "
   ]
  },
  {
   "cell_type": "code",
   "execution_count": 9,
   "metadata": {},
   "outputs": [
    {
     "name": "stdout",
     "output_type": "stream",
     "text": [
      "{1, 3, 4, 5}\n"
     ]
    }
   ],
   "source": [
    "#user defined remove method\n",
    "s={1,2,3,4,5}\n",
    "def user_remove(value):\n",
    "    global s\n",
    "    if type(s)!=set:\n",
    "        raise AttributeError\n",
    "    elif value not in s:\n",
    "        raise  KeyError\n",
    "    s-={value}\n",
    "user_remove(2)  #if value not present in set it raise key error\n",
    "print(s)    "
   ]
  },
  {
   "cell_type": "code",
   "execution_count": 3,
   "metadata": {},
   "outputs": [
    {
     "name": "stdout",
     "output_type": "stream",
     "text": [
      "database\n"
     ]
    }
   ],
   "source": [
    "#user defined pop method\n",
    "s={1,'python',2,'oracle',3,'database'}\n",
    "def user_pop():\n",
    "    global s\n",
    "    if type(s)!=set:\n",
    "        raise AttributeError\n",
    "    elif s==set():\n",
    "        raise KeyError\n",
    "    removed_ele=list(s)[-1]\n",
    "    s-={list(s)[-1]}\n",
    "    return removed_ele\n",
    "print(user_pop())\n"
   ]
  },
  {
   "cell_type": "code",
   "execution_count": 1,
   "metadata": {},
   "outputs": [
    {
     "name": "stdout",
     "output_type": "stream",
     "text": [
      "set()\n"
     ]
    }
   ],
   "source": [
    "#user defined clear method.\n",
    "s={1,2,3}\n",
    "def user_clear():\n",
    "    global s\n",
    "    if type(s)!=set:\n",
    "        raise AttributeError\n",
    "    s-=s\n",
    "user_clear()\n",
    "print(s)    "
   ]
  },
  {
   "cell_type": "code",
   "execution_count": 2,
   "metadata": {},
   "outputs": [
    {
     "ename": "AttributeError",
     "evalue": "",
     "output_type": "error",
     "traceback": [
      "\u001b[1;31m---------------------------------------------------------------------------\u001b[0m",
      "\u001b[1;31mAttributeError\u001b[0m                            Traceback (most recent call last)",
      "Cell \u001b[1;32mIn[2], line 8\u001b[0m\n\u001b[0;32m      6\u001b[0m         \u001b[38;5;28;01mraise\u001b[39;00m \u001b[38;5;167;01mAttributeError\u001b[39;00m\n\u001b[0;32m      7\u001b[0m     \u001b[38;5;28;01mdel\u001b[39;00m s\n\u001b[1;32m----> 8\u001b[0m \u001b[43muser_del\u001b[49m\u001b[43m(\u001b[49m\u001b[43m)\u001b[49m\n\u001b[0;32m      9\u001b[0m \u001b[38;5;28mprint\u001b[39m(s)    \n",
      "Cell \u001b[1;32mIn[2], line 6\u001b[0m, in \u001b[0;36muser_del\u001b[1;34m()\u001b[0m\n\u001b[0;32m      4\u001b[0m \u001b[38;5;28;01mglobal\u001b[39;00m s \n\u001b[0;32m      5\u001b[0m \u001b[38;5;28;01mif\u001b[39;00m \u001b[38;5;28mtype\u001b[39m(s)\u001b[38;5;241m!=\u001b[39m\u001b[38;5;28mset\u001b[39m():\n\u001b[1;32m----> 6\u001b[0m     \u001b[38;5;28;01mraise\u001b[39;00m \u001b[38;5;167;01mAttributeError\u001b[39;00m\n\u001b[0;32m      7\u001b[0m \u001b[38;5;28;01mdel\u001b[39;00m s\n",
      "\u001b[1;31mAttributeError\u001b[0m: "
     ]
    }
   ],
   "source": [
    "#user defined del method.\n",
    "s={1,2,3}\n",
    "def user_del():\n",
    "    global s \n",
    "    if type(s)!=set():\n",
    "        raise AttributeError\n",
    "    del s\n",
    "user_del()\n",
    "print(s)    \n"
   ]
  }
 ],
 "metadata": {
  "kernelspec": {
   "display_name": "Python 3",
   "language": "python",
   "name": "python3"
  },
  "language_info": {
   "codemirror_mode": {
    "name": "ipython",
    "version": 3
   },
   "file_extension": ".py",
   "mimetype": "text/x-python",
   "name": "python",
   "nbconvert_exporter": "python",
   "pygments_lexer": "ipython3",
   "version": "3.11.5"
  }
 },
 "nbformat": 4,
 "nbformat_minor": 2
}
