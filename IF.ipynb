{
 "cells": [
  {
   "cell_type": "code",
   "execution_count": 6,
   "metadata": {},
   "outputs": [
    {
     "name": "stdout",
     "output_type": "stream",
     "text": [
      "the number is positive\n"
     ]
    }
   ],
   "source": [
    "#1.wap to display hello world if the number is greater than 1 and lesser than 5.\n",
    "num =10\n",
    "if num>0:\n",
    "    print(\"the number is positive\")\n"
   ]
  },
  {
   "cell_type": "code",
   "execution_count": 4,
   "metadata": {},
   "outputs": [
    {
     "name": "stdout",
     "output_type": "stream",
     "text": [
      "helloworld\n"
     ]
    }
   ],
   "source": [
    "#2.wap to display hello world if the number is greater than 1 and less than 5\n",
    "\n",
    "num =3\n",
    "if num>1 and num<5: #1<=num<=5\n",
    " print(\"helloworld\")"
   ]
  },
  {
   "cell_type": "code",
   "execution_count": 11,
   "metadata": {},
   "outputs": [
    {
     "name": "stdout",
     "output_type": "stream",
     "text": [
      "fizz\n"
     ]
    }
   ],
   "source": [
    "#3.wap to check whether given number is divisible by 3 or not if print fizz\n",
    "\n",
    "num =9\n",
    "if num%3==0:\n",
    "    print(\"fizz\")"
   ]
  },
  {
   "cell_type": "code",
   "execution_count": 12,
   "metadata": {},
   "outputs": [
    {
     "name": "stdout",
     "output_type": "stream",
     "text": [
      "(12+0j)\n"
     ]
    }
   ],
   "source": [
    "#4. wap to check whether the given input is divisible by 2 or 6. if condtion is satisfied convert the given number into a complex number.\n",
    "\n",
    "num =12\n",
    "if num%2==0 or num%6==0:\n",
    "    print(complex(num))"
   ]
  },
  {
   "cell_type": "code",
   "execution_count": 32,
   "metadata": {},
   "outputs": [
    {
     "name": "stdout",
     "output_type": "stream",
     "text": [
      "['3', '0']\n"
     ]
    }
   ],
   "source": [
    "#5. wap to check whether given input is divisible by 3 or 5.if the condition is satisfied,the number is converted to a list.i/p=30 and o/p=['3','0'].\n",
    "\n",
    "num =30\n",
    "s=[]\n",
    "if num%3==0 or num%5==0:\n",
    "    s=str(num)\n",
    "    print(list(s))"
   ]
  },
  {
   "cell_type": "code",
   "execution_count": 33,
   "metadata": {},
   "outputs": [
    {
     "name": "stdout",
     "output_type": "stream",
     "text": [
      "it is divisible by 5\n"
     ]
    }
   ],
   "source": [
    "#6. wap to check whether the given number multipul by 5 or not.\n",
    " \n",
    "num =30\n",
    "if num%5==0 :\n",
    "    print(\"it is divisible by 5\")"
   ]
  },
  {
   "cell_type": "code",
   "execution_count": 34,
   "metadata": {},
   "outputs": [
    {
     "name": "stdout",
     "output_type": "stream",
     "text": [
      "0\n"
     ]
    }
   ],
   "source": [
    "#7. wap to check whether the given input is 0 or not.if 0 print 0.\n",
    "\n",
    "num =0\n",
    "if num==0:\n",
    "    print(0)"
   ]
  },
  {
   "cell_type": "code",
   "execution_count": 43,
   "metadata": {},
   "outputs": [
    {
     "name": "stdout",
     "output_type": "stream",
     "text": [
      "negative\n"
     ]
    }
   ],
   "source": [
    "#8.wap to check whether a given number is negative . if negative print message negative.\n",
    "\n",
    "num =-3\n",
    "if num<0:\n",
    "    print(\"negative\")"
   ]
  },
  {
   "cell_type": "code",
   "execution_count": 45,
   "metadata": {},
   "outputs": [
    {
     "name": "stdout",
     "output_type": "stream",
     "text": [
      "['8']\n"
     ]
    }
   ],
   "source": [
    "#9.wap to chech whether a number is even or not .if even store the value inside the list.\n",
    "\n",
    "num = 8\n",
    "s=[]\n",
    "if 8%2==0:\n",
    "    s+=str(num)\n",
    "    print(s)"
   ]
  },
  {
   "cell_type": "code",
   "execution_count": 1,
   "metadata": {},
   "outputs": [
    {
     "name": "stdout",
     "output_type": "stream",
     "text": [
      "(15,)\n"
     ]
    }
   ],
   "source": [
    "#10.wap to check whether a number is odd or not.if odd, store the value inside the tuple.\n",
    "\n",
    "num =15\n",
    "s =()\n",
    "if num%2!=0:\n",
    "    s+=( num,)\n",
    "    print(s)\n",
    "  "
   ]
  },
  {
   "cell_type": "code",
   "execution_count": 2,
   "metadata": {},
   "outputs": [
    {
     "name": "stdout",
     "output_type": "stream",
     "text": [
      "20736\n"
     ]
    }
   ],
   "source": [
    "#11.wap to check whether the given number is even or not.if it is yes,to print the power 4 in the given number.\n",
    "\n",
    "num =12\n",
    "if 12%2==0:\n",
    "    print(num**4)"
   ]
  },
  {
   "cell_type": "code",
   "execution_count": 3,
   "metadata": {},
   "outputs": [
    {
     "name": "stdout",
     "output_type": "stream",
     "text": [
      "21\n"
     ]
    }
   ],
   "source": [
    "#12.wap to take the input from the user as a number and check it is a number or not if yes take number a number and add some value and print it.num\n",
    "\n",
    "num =20\n",
    "if type(num)==int:\n",
    "    print(num+1)"
   ]
  },
  {
   "cell_type": "code",
   "execution_count": 4,
   "metadata": {},
   "outputs": [
    {
     "name": "stdout",
     "output_type": "stream",
     "text": [
      "1225\n"
     ]
    }
   ],
   "source": [
    "#13.wap to check whether the given value is divisible by 5 and 7.if the value divisible to display the square of the value.\n",
    "\n",
    "num=35\n",
    "if num%5==0 and num%7==0:\n",
    "    print(num**2)"
   ]
  },
  {
   "cell_type": "code",
   "execution_count": 10,
   "metadata": {},
   "outputs": [
    {
     "name": "stdout",
     "output_type": "stream",
     "text": [
      "4\n"
     ]
    }
   ],
   "source": [
    "#14.wap to check whether the given values last digit is greater than 5 or not.if greater to perform the bitwise right shift operator(skipping value 2).\n",
    "\n",
    "num =19\n",
    "if num%10>5:\n",
    "    print(num>>2)"
   ]
  },
  {
   "cell_type": "code",
   "execution_count": 13,
   "metadata": {},
   "outputs": [
    {
     "name": "stdout",
     "output_type": "stream",
     "text": [
      "225\n"
     ]
    }
   ],
   "source": [
    "#15.wap to check the given value is divisible by 3 and less than 30 .if the value is divisible to display the square of the values.\n",
    "\n",
    "num =15\n",
    "if num%3==0 and num<30:\n",
    "    print(num**2)"
   ]
  },
  {
   "cell_type": "code",
   "execution_count": 14,
   "metadata": {},
   "outputs": [
    {
     "name": "stdout",
     "output_type": "stream",
     "text": [
      "512\n"
     ]
    }
   ],
   "source": [
    "#16.wap to check given value is even number and divisible by 4.if satisfied display the cube of the values.\n",
    "\n",
    "num =8\n",
    "if num%2==0 and num%4==0:\n",
    "    print(num**3)"
   ]
  },
  {
   "cell_type": "code",
   "execution_count": 33,
   "metadata": {},
   "outputs": [
    {
     "name": "stdout",
     "output_type": "stream",
     "text": [
      "['1', '0']\n"
     ]
    }
   ],
   "source": [
    "#17. wap to check the given value is even or not.if it is even number store the value inside the list.\n",
    "\n",
    "num =10\n",
    "s =[]\n",
    "if num%2==0:\n",
    "    s+=str(num)\n",
    "    print(s)\n"
   ]
  },
  {
   "cell_type": "code",
   "execution_count": 34,
   "metadata": {},
   "outputs": [
    {
     "name": "stdout",
     "output_type": "stream",
     "text": [
      "2\n"
     ]
    }
   ],
   "source": [
    "#18. wap to check given value is negative or even number.if satisfied to display the last digit of the value.\n",
    "\n",
    "num=-8\n",
    "if num<0 or num%2==0:\n",
    "    print(num%10)"
   ]
  },
  {
   "cell_type": "code",
   "execution_count": 35,
   "metadata": {},
   "outputs": [
    {
     "name": "stdout",
     "output_type": "stream",
     "text": [
      "-512\n"
     ]
    }
   ],
   "source": [
    "#19.wap to check whether the given vlaue is negative or odd number and divisible by 4 .if it is satisfies to display the cube of the values.\n",
    "\n",
    "num =-8\n",
    "if num<0 or num%2!=0 and num%4==0:\n",
    "    print(num**3)"
   ]
  },
  {
   "cell_type": "code",
   "execution_count": 37,
   "metadata": {},
   "outputs": [
    {
     "name": "stdout",
     "output_type": "stream",
     "text": [
      "\u0018\n"
     ]
    }
   ],
   "source": [
    "#20. wap to check whether a given ascii value is divisible by 4 and even value.if satisfied,to display the ascii character.\n",
    "\n",
    "num =24\n",
    "if num%4==0 and num%2==0:\n",
    "    print(chr(num))"
   ]
  }
 ],
 "metadata": {
  "kernelspec": {
   "display_name": "Python 3",
   "language": "python",
   "name": "python3"
  },
  "language_info": {
   "codemirror_mode": {
    "name": "ipython",
    "version": 3
   },
   "file_extension": ".py",
   "mimetype": "text/x-python",
   "name": "python",
   "nbconvert_exporter": "python",
   "pygments_lexer": "ipython3",
   "version": "3.11.5"
  },
  "orig_nbformat": 4
 },
 "nbformat": 4,
 "nbformat_minor": 2
}
