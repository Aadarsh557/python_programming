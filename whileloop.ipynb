{
 "cells": [
  {
   "cell_type": "code",
   "execution_count": 2,
   "metadata": {},
   "outputs": [
    {
     "name": "stdout",
     "output_type": "stream",
     "text": [
      "1 2 3 4 5 6 7 8 9 10 "
     ]
    }
   ],
   "source": [
    "#1.wap to generate and print the values from 1 to 10\n",
    "\n",
    "start=1\n",
    "end=10\n",
    "while start<=end:\n",
    "    print(start,end=\" \")\n",
    "    start+=1"
   ]
  },
  {
   "cell_type": "code",
   "execution_count": 1,
   "metadata": {},
   "outputs": [
    {
     "name": "stdout",
     "output_type": "stream",
     "text": [
      "20 21 22 23 24 25 26 27 28 29 30 31 32 33 34 35 36 37 38 39 40 41 42 43 44 45 46 47 48 49 50 "
     ]
    }
   ],
   "source": [
    "#2.wap to print the values from 20 to 50\n",
    "\n",
    "start=20\n",
    "end=50\n",
    "while start<=end:\n",
    "    print(start,end=\" \")\n",
    "    start+=1"
   ]
  },
  {
   "cell_type": "code",
   "execution_count": 3,
   "metadata": {},
   "outputs": [
    {
     "name": "stdout",
     "output_type": "stream",
     "text": [
      "0 2 4 6 8 10 12 14 16 18 20 22 24 26 28 30 "
     ]
    }
   ],
   "source": [
    "#3.wap to print the even numbers from 0 to 30\n",
    "\n",
    "start=0\n",
    "end=30\n",
    "while start<=end:\n",
    "    if start%2==0:\n",
    "        print(start,end=\" \")\n",
    "    start+=1"
   ]
  },
  {
   "cell_type": "code",
   "execution_count": 4,
   "metadata": {},
   "outputs": [
    {
     "name": "stdout",
     "output_type": "stream",
     "text": [
      "11 13 15 17 19 21 23 25 27 29 31 33 35 37 39 41 43 45 47 49 51 53 55 57 59 "
     ]
    }
   ],
   "source": [
    "#4.wap to print the odd numbers from 10 to 60\n",
    "\n",
    "start=10\n",
    "end=60\n",
    "while start<=end:\n",
    "    if start%2!=0:\n",
    "        print(start,end=\" \")\n",
    "    start+=1"
   ]
  },
  {
   "cell_type": "code",
   "execution_count": 5,
   "metadata": {},
   "outputs": [
    {
     "name": "stdout",
     "output_type": "stream",
     "text": [
      "20 19 18 17 16 15 14 13 12 11 10 "
     ]
    }
   ],
   "source": [
    "#5.wap to print the values 20 to 10 \n",
    "\n",
    "start=20 \n",
    "end=10\n",
    "while start>=end:\n",
    "    print(start,end=\" \")\n",
    "    start-=1"
   ]
  },
  {
   "cell_type": "code",
   "execution_count": 1,
   "metadata": {},
   "outputs": [
    {
     "name": "stdout",
     "output_type": "stream",
     "text": [
      "A B C D E F G H I J K L M N O P Q R S T U V W X Y Z "
     ]
    }
   ],
   "source": [
    "#6.wap to print the uppercase character from A to Z\n",
    "\n",
    "start=65\n",
    "end=90\n",
    "while start<=end:\n",
    "    print(chr(start),end=\" \")\n",
    "    start+=1"
   ]
  },
  {
   "cell_type": "code",
   "execution_count": 21,
   "metadata": {},
   "outputs": [
    {
     "name": "stdout",
     "output_type": "stream",
     "text": [
      "3 * 1 = 3\n",
      "3 * 2 = 6\n",
      "3 * 3 = 9\n",
      "3 * 4 = 12\n",
      "3 * 5 = 15\n",
      "3 * 6 = 18\n",
      "3 * 7 = 21\n",
      "3 * 8 = 24\n",
      "3 * 9 = 27\n",
      "3 * 10 = 30\n",
      "3 * 11 = 33\n",
      "3 * 12 = 36\n",
      "3 * 13 = 39\n",
      "3 * 14 = 42\n",
      "3 * 15 = 45\n",
      "3 * 16 = 48\n",
      "3 * 17 = 51\n",
      "3 * 18 = 54\n",
      "3 * 19 = 57\n",
      "3 * 20 = 60\n"
     ]
    }
   ],
   "source": [
    "#7.wap to print the 3rd table values 3x1=3 from 1 to 20\n",
    "\n",
    "start=1\n",
    "end=20\n",
    "n=int(input(\"enter the number\"))\n",
    "while start<=end:\n",
    "    print(n,'*',start,'=',start*n)\n",
    "    start+=1"
   ]
  },
  {
   "cell_type": "code",
   "execution_count": 40,
   "metadata": {},
   "outputs": [
    {
     "name": "stdout",
     "output_type": "stream",
     "text": [
      "1\n",
      "5\n",
      "11\n",
      "55\n"
     ]
    }
   ],
   "source": [
    "#8.wap to print the factors of given number\n",
    "\n",
    "start=1\n",
    "end=int(input(\"enter the number\"))\n",
    "while start<=end:\n",
    "    if end%start==0:\n",
    "        print(start)\n",
    "    start+=1"
   ]
  },
  {
   "cell_type": "code",
   "execution_count": 41,
   "metadata": {},
   "outputs": [
    {
     "name": "stdout",
     "output_type": "stream",
     "text": [
      "15\n"
     ]
    }
   ],
   "source": [
    "#9.wap to sum of the values from 1 to 5\n",
    "\n",
    "sum=0\n",
    "start=1\n",
    "end=5\n",
    "while start<=end:\n",
    "    sum+=start\n",
    "    start+=1\n",
    "print(sum)\n",
    "\n"
   ]
  },
  {
   "cell_type": "code",
   "execution_count": 42,
   "metadata": {},
   "outputs": [
    {
     "name": "stdout",
     "output_type": "stream",
     "text": [
      "120\n"
     ]
    }
   ],
   "source": [
    "#10.wap to product of the values from 1 to 5\n",
    "\n",
    "product=1\n",
    "start=1\n",
    "end=5\n",
    "while start<=end:\n",
    "    product*=start\n",
    "    start+=1\n",
    "print(product)\n"
   ]
  },
  {
   "cell_type": "code",
   "execution_count": 10,
   "metadata": {},
   "outputs": [
    {
     "name": "stdout",
     "output_type": "stream",
     "text": [
      "45268\n"
     ]
    }
   ],
   "source": [
    "#11.wap to fetch/extract the number/digits individually.\n",
    "n=45268\n",
    "i=0\n",
    "res=\" \"\n",
    "while i<n:\n",
    "    last=n%10\n",
    "    res+=str(last)\n",
    "    n=n//10\n",
    "print(int(res[::-1]))    \n"
   ]
  },
  {
   "cell_type": "code",
   "execution_count": 13,
   "metadata": {},
   "outputs": [
    {
     "name": "stdout",
     "output_type": "stream",
     "text": [
      "the minimum value is2\n"
     ]
    }
   ],
   "source": [
    "#12.wap to extract the minimum number without using inbuilt method.\n",
    "\n",
    "n=45268\n",
    "i=0\n",
    "min_=9\n",
    "while i<n:\n",
    "    last=n%10\n",
    "    if last<min_:\n",
    "        min_=last\n",
    "    n=n//10\n",
    "print(f\"the minimum value is{min_}\")\n"
   ]
  },
  {
   "cell_type": "code",
   "execution_count": 18,
   "metadata": {},
   "outputs": [
    {
     "name": "stdout",
     "output_type": "stream",
     "text": [
      "the maximum value is8\n"
     ]
    }
   ],
   "source": [
    "#13.wap to extract the maximum number without using inbuilt method.\n",
    "\n",
    "n=45268\n",
    "i=0\n",
    "max_=0\n",
    "while i<n:\n",
    "    last=n%10\n",
    "    if last>max_:\n",
    "        max_=last\n",
    "    n=n//10\n",
    "print(f\"the maximum value is{max_}\")"
   ]
  },
  {
   "cell_type": "code",
   "execution_count": 4,
   "metadata": {},
   "outputs": [
    {
     "name": "stdout",
     "output_type": "stream",
     "text": [
      "not palindrome\n",
      "not palindrome\n",
      "palindrome\n",
      "not palindrome\n",
      "not palindrome\n",
      "not palindrome\n"
     ]
    }
   ],
   "source": [
    "#14.wap to check whether the given number is palindrome or not.\n",
    "n=123321\n",
    "s=\" \"\n",
    "i=0\n",
    "while i<n:\n",
    "    last=n%10\n",
    "    s+=str(last)\n",
    "    n=n//10\n",
    "    if n==int(s):\n",
    "        print(\"palindrome\")\n",
    "    else:\n",
    "        print(\"not palindrome\")    \n",
    "\n"
   ]
  },
  {
   "cell_type": "code",
   "execution_count": 11,
   "metadata": {},
   "outputs": [
    {
     "name": "stdout",
     "output_type": "stream",
     "text": [
      "26\n"
     ]
    }
   ],
   "source": [
    "#random module.\n",
    "import random\n",
    "var=random.randint(1,50)\n",
    "print(var)\n"
   ]
  },
  {
   "cell_type": "code",
   "execution_count": null,
   "metadata": {},
   "outputs": [],
   "source": [
    "#Game on randome module.\n",
    "import random\n",
    "result=random.randint(1,20)\n",
    "while True:\n",
    "    player_guess=int(input(\"enter the number\"))\n",
    "    if player_guess==result:\n",
    "        print(\"your guess is correct\")\n",
    "        break\n",
    "    else:\n",
    "        print(\"your guess is wrong\")"
   ]
  },
  {
   "cell_type": "code",
   "execution_count": 5,
   "metadata": {},
   "outputs": [
    {
     "name": "stdout",
     "output_type": "stream",
     "text": [
      "2\n",
      "4\n",
      "6\n",
      "8\n",
      "10\n"
     ]
    }
   ],
   "source": [
    "#itertools\n",
    "#count\n",
    "import itertools\n",
    "for i in itertools.count(2,2):\n",
    "    print(i)\n",
    "    if i==10:\n",
    "        break\n"
   ]
  },
  {
   "cell_type": "code",
   "execution_count": 14,
   "metadata": {},
   "outputs": [
    {
     "name": "stdout",
     "output_type": "stream",
     "text": [
      "11\n",
      "22\n",
      "33\n",
      "44\n",
      "11\n",
      "22\n"
     ]
    }
   ],
   "source": [
    "#cycle\n",
    "import itertools\n",
    "a=itertools.cycle([11,22,33,44])\n",
    "for i in range(6):\n",
    "    print(next(a))\n"
   ]
  },
  {
   "cell_type": "code",
   "execution_count": 19,
   "metadata": {},
   "outputs": [
    {
     "name": "stdout",
     "output_type": "stream",
     "text": [
      "python programming\n",
      "python programming\n",
      "python programming\n"
     ]
    }
   ],
   "source": [
    "#replace\n",
    "import itertools\n",
    "for i in itertools.repeat('python programming',3):\n",
    "    print(i)"
   ]
  },
  {
   "cell_type": "code",
   "execution_count": 20,
   "metadata": {},
   "outputs": [
    {
     "name": "stdout",
     "output_type": "stream",
     "text": [
      "11\n",
      "22\n",
      "33\n",
      "44\n",
      "55\n",
      "66\n"
     ]
    }
   ],
   "source": [
    "#chain\n",
    "import itertools\n",
    "for i in itertools.chain([11,22,33],[44,55,66]):\n",
    "    print(i)"
   ]
  },
  {
   "cell_type": "code",
   "execution_count": 26,
   "metadata": {},
   "outputs": [
    {
     "name": "stdout",
     "output_type": "stream",
     "text": [
      "p y t h o n   p "
     ]
    }
   ],
   "source": [
    "#islice\n",
    "import itertools\n",
    "s='python programming language'\n",
    "for i in itertools.islice(s,0,8):\n",
    "    print(i,end=\" \")"
   ]
  },
  {
   "cell_type": "code",
   "execution_count": 36,
   "metadata": {},
   "outputs": [
    {
     "name": "stdout",
     "output_type": "stream",
     "text": [
      "1\n",
      "2\n",
      "3\n",
      "4\n",
      "5\n"
     ]
    }
   ],
   "source": [
    "#time module \n",
    "#time.sleep\n",
    "import time\n",
    "for i in range(1,100):\n",
    "    time.sleep(2)\n",
    "    print(i)\n",
    "    if i==5:\n",
    "        break"
   ]
  },
  {
   "cell_type": "code",
   "execution_count": 38,
   "metadata": {},
   "outputs": [
    {
     "name": "stdout",
     "output_type": "stream",
     "text": [
      "1702573902.417074\n",
      "Thu Dec 14 22:41:42 2023\n"
     ]
    }
   ],
   "source": [
    "#time.ctime\n",
    "import time\n",
    "start=time.time()\n",
    "print(start)\n",
    "c=time.ctime()\n",
    "print(c)"
   ]
  },
  {
   "cell_type": "code",
   "execution_count": 39,
   "metadata": {},
   "outputs": [
    {
     "name": "stdout",
     "output_type": "stream",
     "text": [
      "time.struct_time(tm_year=2023, tm_mon=12, tm_mday=14, tm_hour=22, tm_min=42, tm_sec=42, tm_wday=3, tm_yday=348, tm_isdst=0)\n"
     ]
    }
   ],
   "source": [
    "#time.localtime\n",
    "import time\n",
    "ltime=time.localtime()\n",
    "print(ltime)"
   ]
  },
  {
   "cell_type": "code",
   "execution_count": 41,
   "metadata": {},
   "outputs": [
    {
     "name": "stdout",
     "output_type": "stream",
     "text": [
      "14-12-23\n",
      "22-46-48\n"
     ]
    }
   ],
   "source": [
    "#time.strftime()\n",
    "print(time.strftime(\"%d-%m-%y\"))\n",
    "print(time.strftime(\"%H-%M-%S\"))"
   ]
  }
 ],
 "metadata": {
  "kernelspec": {
   "display_name": "Python 3",
   "language": "python",
   "name": "python3"
  },
  "language_info": {
   "codemirror_mode": {
    "name": "ipython",
    "version": 3
   },
   "file_extension": ".py",
   "mimetype": "text/x-python",
   "name": "python",
   "nbconvert_exporter": "python",
   "pygments_lexer": "ipython3",
   "version": "3.11.5"
  }
 },
 "nbformat": 4,
 "nbformat_minor": 2
}
