{
 "cells": [
  {
   "cell_type": "code",
   "execution_count": 2,
   "metadata": {},
   "outputs": [
    {
     "name": "stdout",
     "output_type": "stream",
     "text": [
      "[1, 2, 3, 4, 'hello']\n"
     ]
    }
   ],
   "source": [
    "#user defined append method\n",
    "l=[1,2,3,4]\n",
    "def user_append(object):\n",
    "    global l\n",
    "    if type(l)!=list:\n",
    "        raise AttributeError\n",
    "    l+=[object]\n",
    "user_append(\"hello\")\n",
    "print(l)    "
   ]
  },
  {
   "cell_type": "code",
   "execution_count": 5,
   "metadata": {},
   "outputs": [
    {
     "name": "stdout",
     "output_type": "stream",
     "text": [
      "[1, 3, 4, 6, 'p', 'y', 't', 'h', 'o', 'n']\n"
     ]
    }
   ],
   "source": [
    "#user defined extend method\n",
    "l=[1,3,4,6]\n",
    "def user_extend(iterable):\n",
    "    global l\n",
    "    if type(l)!=list:\n",
    "        raise AttributeError\n",
    "    for i in iterable:\n",
    "        l+=[i]\n",
    "user_extend('python')\n",
    "print(l)        \n"
   ]
  },
  {
   "cell_type": "code",
   "execution_count": 9,
   "metadata": {},
   "outputs": [
    {
     "name": "stdout",
     "output_type": "stream",
     "text": [
      "[1, 'raju', 2, 34, 12]\n"
     ]
    }
   ],
   "source": [
    "#user defined insert method\n",
    "l=[1,2,34,12]\n",
    "def user_insert(index,object):\n",
    "    global l\n",
    "    if type(l)!=list:\n",
    "        raise AttributeError\n",
    "    l[index:index]=[object]\n",
    "user_insert(1,\"raju\")\n",
    "print(l)    \n",
    "    "
   ]
  },
  {
   "cell_type": "code",
   "execution_count": 2,
   "metadata": {},
   "outputs": [
    {
     "name": "stdout",
     "output_type": "stream",
     "text": [
      "tarun\n",
      "['purna', 'aadarsh', 'rahul']\n"
     ]
    }
   ],
   "source": [
    "#user defined pop method\n",
    "l=['purna','aadarsh','rahul','tarun']\n",
    "def user_pop(index):\n",
    "    global l\n",
    "    if type(l)!=list:\n",
    "        raise AttributeError\n",
    "    removed_value=l[index]\n",
    "    del l[index]\n",
    "    print (removed_value) #return removed_value\n",
    "user_pop(-1)\n",
    "print(l)\n",
    "    "
   ]
  },
  {
   "cell_type": "code",
   "execution_count": 18,
   "metadata": {},
   "outputs": [
    {
     "name": "stdout",
     "output_type": "stream",
     "text": [
      "['purna', 'aadarsh', 'tarun']\n"
     ]
    }
   ],
   "source": [
    "#user defined remove method\n",
    "l=['purna','aadarsh','rahul','tarun']\n",
    "def user_remove(value):\n",
    "    global l\n",
    "    if type(l)!=list:\n",
    "        raise AttributeError\n",
    "    elif value not in l:\n",
    "        raise ValueError\n",
    "    for i in range(len(l)):\n",
    "        if l[i]==value:\n",
    "            del l[i]\n",
    "            break\n",
    "user_remove('rahul')\n",
    "print(l)\n"
   ]
  },
  {
   "cell_type": "code",
   "execution_count": 19,
   "metadata": {},
   "outputs": [
    {
     "name": "stdout",
     "output_type": "stream",
     "text": [
      "[]\n"
     ]
    }
   ],
   "source": [
    "#user defined clear method\n",
    "l=['purna','aadarsh','rahul','tarun']\n",
    "def user_clear():\n",
    "    global l\n",
    "    if type(l)!=list:\n",
    "        raise AttributeError\n",
    "    for i in range(len(l)):\n",
    "        del l[-1]\n",
    "user_clear()\n",
    "print(l)       \n",
    "    "
   ]
  },
  {
   "cell_type": "code",
   "execution_count": 23,
   "metadata": {},
   "outputs": [
    {
     "ename": "NameError",
     "evalue": "name 'l' is not defined",
     "output_type": "error",
     "traceback": [
      "\u001b[1;31m---------------------------------------------------------------------------\u001b[0m",
      "\u001b[1;31mNameError\u001b[0m                                 Traceback (most recent call last)",
      "Cell \u001b[1;32mIn[23], line 9\u001b[0m\n\u001b[0;32m      7\u001b[0m     \u001b[38;5;28;01mdel\u001b[39;00m l\n\u001b[0;32m      8\u001b[0m user_delete()\n\u001b[1;32m----> 9\u001b[0m \u001b[38;5;28mprint\u001b[39m(\u001b[43ml\u001b[49m)       \n",
      "\u001b[1;31mNameError\u001b[0m: name 'l' is not defined"
     ]
    }
   ],
   "source": [
    "#user defined delete method\n",
    "l=['purna','aadarsh','rahul','tarun']\n",
    "def user_delete():\n",
    "    global l\n",
    "    if type(l)!=list:\n",
    "        raise AttributeError\n",
    "    del l\n",
    "user_delete()\n",
    "print(l)       "
   ]
  }
 ],
 "metadata": {
  "kernelspec": {
   "display_name": "Python 3",
   "language": "python",
   "name": "python3"
  },
  "language_info": {
   "codemirror_mode": {
    "name": "ipython",
    "version": 3
   },
   "file_extension": ".py",
   "mimetype": "text/x-python",
   "name": "python",
   "nbconvert_exporter": "python",
   "pygments_lexer": "ipython3",
   "version": "3.11.5"
  }
 },
 "nbformat": 4,
 "nbformat_minor": 2
}
